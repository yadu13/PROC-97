{
  "nbformat": 4,
  "nbformat_minor": 0,
  "metadata": {
    "colab": {
      "provenance": [],
      "authorship_tag": "ABX9TyO9JUzsp3oZZYp9bh/xUyyN",
      "include_colab_link": true
    },
    "kernelspec": {
      "name": "python3",
      "display_name": "Python 3"
    },
    "language_info": {
      "name": "python"
    }
  },
  "cells": [
    {
      "cell_type": "markdown",
      "metadata": {
        "id": "view-in-github",
        "colab_type": "text"
      },
      "source": [
        "<a href=\"https://colab.research.google.com/github/yadu13/PROC-97/blob/main/PRO_C_97_Height_to_Centimetre.ipynb\" target=\"_parent\"><img src=\"https://colab.research.google.com/assets/colab-badge.svg\" alt=\"Open In Colab\"/></a>"
      ]
    },
    {
      "cell_type": "code",
      "execution_count": null,
      "metadata": {
        "id": "O8c4pyoE8ZYV"
      },
      "outputs": [],
      "source": []
    },
    {
      "cell_type": "code",
      "source": [
        "print('*Caution* Please enter values only of integer form' )\n",
        "hght=int(input('Enter the height in centimetres'))\n",
        "foot=hght/30.48\n",
        "print('The length in Feet',foot)\n",
        "inches=hght/2.54\n",
        "print('The length in inches',inches)\n",
        "\n",
        ""
      ],
      "metadata": {
        "colab": {
          "base_uri": "https://localhost:8080/"
        },
        "id": "tDPStx7i83NR",
        "outputId": "61578f75-5451-407f-d7fa-30257a8773a0"
      },
      "execution_count": 6,
      "outputs": [
        {
          "output_type": "stream",
          "name": "stdout",
          "text": [
            "*Caution* Please enter values only of integer form\n",
            "Enter the height in centimetres8\n",
            "The length in Feet 0.26246719160104987\n",
            "The length in inches 3.149606299212598\n"
          ]
        }
      ]
    }
  ]
}