{
  "nbformat": 4,
  "nbformat_minor": 0,
  "metadata": {
    "colab": {
      "provenance": [],
      "authorship_tag": "ABX9TyO2CPDpyj19x01zF9fDdv26",
      "include_colab_link": true
    },
    "kernelspec": {
      "name": "python3",
      "display_name": "Python 3"
    },
    "language_info": {
      "name": "python"
    }
  },
  "cells": [
    {
      "cell_type": "markdown",
      "metadata": {
        "id": "view-in-github",
        "colab_type": "text"
      },
      "source": [
        "<a href=\"https://colab.research.google.com/github/yadu13/PROC-97/blob/main/PRO_C_97_Leap_Year.ipynb\" target=\"_parent\"><img src=\"https://colab.research.google.com/assets/colab-badge.svg\" alt=\"Open In Colab\"/></a>"
      ]
    },
    {
      "cell_type": "code",
      "execution_count": 9,
      "metadata": {
        "colab": {
          "base_uri": "https://localhost:8080/"
        },
        "id": "rn2E-p3Nymud",
        "outputId": "03b86d92-5bdf-4944-a7c0-fc13e7f19958"
      },
      "outputs": [
        {
          "output_type": "stream",
          "name": "stdout",
          "text": [
            "Enter the Year2024\n",
            "Leap Year\n"
          ]
        }
      ],
      "source": [
        "yr=int(input('Enter the Year'))\n",
        "if yr%4==0:\n",
        "  print('Leap Year')\n",
        "else:\n",
        "  print('Not a Leap Year')\n",
        "\n",
        "\n",
        "\n",
        ""
      ]
    }
  ]
}